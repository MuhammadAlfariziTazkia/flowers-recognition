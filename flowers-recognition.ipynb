{
 "cells": [
  {
   "cell_type": "markdown",
   "metadata": {},
   "source": [
    "# Flowers Recognition\n",
    "### By : Muhammad Alfarizi Tazkia\n",
    "### Dataset Link : https://www.kaggle.com/alxmamaev/flowers-recognition\n",
    "\n"
   ]
  },
  {
   "cell_type": "markdown",
   "metadata": {},
   "source": [
    "## Importing Library"
   ]
  },
  {
   "cell_type": "code",
   "execution_count": 4,
   "metadata": {},
   "outputs": [],
   "source": [
    "import tensorflow as tf\n",
    "import zipfile\n",
    "import shutil\n",
    "import os\n",
    "import matplotlib.pyplot as plt\n",
    "\n",
    "from keras.preprocessing import image\n",
    "from tensorflow.keras.preprocessing.image import ImageDataGenerator\n",
    "\n",
    "from tensorflow.keras.models import Sequential\n",
    "from tensorflow.keras.layers import Conv2D\n",
    "from tensorflow.keras.layers import Dense\n",
    "from tensorflow.keras.layers import MaxPooling2D\n",
    "from tensorflow.keras.layers import Dropout\n",
    "from tensorflow.keras.layers import Flatten\n",
    "\n",
    "from tensorflow.keras.optimizers import Adam"
   ]
  },
  {
   "cell_type": "markdown",
   "metadata": {},
   "source": [
    "## File Configuration"
   ]
  },
  {
   "cell_type": "markdown",
   "metadata": {},
   "source": [
    "### Extracting Directory"
   ]
  },
  {
   "cell_type": "code",
   "execution_count": 4,
   "metadata": {},
   "outputs": [
    {
     "name": "stdout",
     "output_type": "stream",
     "text": [
      "['.ipynb_checkpoints', 'archive-dataset', 'flowers-recognition.ipynb', '.git']\n"
     ]
    }
   ],
   "source": [
    "# show directory\n",
    "print(os.listdir())"
   ]
  },
  {
   "cell_type": "code",
   "execution_count": 5,
   "metadata": {},
   "outputs": [
    {
     "name": "stdout",
     "output_type": "stream",
     "text": [
      "['archive(3).zip']\n"
     ]
    }
   ],
   "source": [
    "print(os.listdir('archive-dataset'))"
   ]
  },
  {
   "cell_type": "code",
   "execution_count": 5,
   "metadata": {},
   "outputs": [
    {
     "name": "stdout",
     "output_type": "stream",
     "text": [
      "Successfully extracting dataset!\n"
     ]
    }
   ],
   "source": [
    "dataset_zip = 'archive-dataset/archive(3).zip'\n",
    "# os.mkdir('dataset')\n",
    "dataset_dir = 'dataset/'\n",
    "\n",
    "# scanning_zip_file = zipfile.ZipFile(dataset_zip, 'r')\n",
    "# scanning_zip_file.extractall(dataset_dir)\n",
    "# scanning_zip_file.close()\n",
    "\n",
    "print('Successfully extracting dataset!')"
   ]
  },
  {
   "cell_type": "code",
   "execution_count": 6,
   "metadata": {},
   "outputs": [
    {
     "name": "stdout",
     "output_type": "stream",
     "text": [
      "['dataset', '.ipynb_checkpoints', 'archive-dataset', 'flowers-recognition.ipynb', '.gitignore', '.git']\n"
     ]
    }
   ],
   "source": [
    "print(os.listdir())\n",
    "# print(os.listdir(os.path.join(dataset_dir, 'flowers')))"
   ]
  },
  {
   "cell_type": "markdown",
   "metadata": {},
   "source": [
    "### Define Directory Name"
   ]
  },
  {
   "cell_type": "code",
   "execution_count": 32,
   "metadata": {},
   "outputs": [
    {
     "name": "stdout",
     "output_type": "stream",
     "text": [
      "['train']\n"
     ]
    }
   ],
   "source": [
    "os.rename(os.path.join(dataset_dir, 'flowers'), os.path.join(dataset_dir, 'train'))\n",
    "print(os.listdir(dataset_dir))"
   ]
  },
  {
   "cell_type": "code",
   "execution_count": 33,
   "metadata": {},
   "outputs": [],
   "source": [
    "os.mkdir(os.path.join(dataset_dir, 'val'))"
   ]
  },
  {
   "cell_type": "code",
   "execution_count": 6,
   "metadata": {},
   "outputs": [
    {
     "name": "stdout",
     "output_type": "stream",
     "text": [
      "['train', 'val']\n"
     ]
    }
   ],
   "source": [
    "train_dir = os.path.join(dataset_dir, 'train')\n",
    "val_dir = os.path.join(dataset_dir, 'val')\n",
    "print(os.listdir(dataset_dir))"
   ]
  },
  {
   "cell_type": "markdown",
   "metadata": {},
   "source": [
    "### Split Training and Validation Data"
   ]
  },
  {
   "cell_type": "code",
   "execution_count": 30,
   "metadata": {},
   "outputs": [],
   "source": [
    "split_portion = 0.8"
   ]
  },
  {
   "cell_type": "code",
   "execution_count": 36,
   "metadata": {},
   "outputs": [
    {
     "name": "stdout",
     "output_type": "stream",
     "text": [
      "rose before splitting : 784 files\n",
      "rose after splitting : 627 files\n",
      "\n",
      "tulip before splitting : 984 files\n",
      "tulip after splitting : 787 files\n",
      "\n",
      "daisy before splitting : 764 files\n",
      "daisy after splitting : 611 files\n",
      "\n",
      "dandelion before splitting : 1052 files\n",
      "dandelion after splitting : 841 files\n",
      "\n",
      "sunflower before splitting : 733 files\n",
      "sunflower after splitting : 586 files\n",
      "\n"
     ]
    }
   ],
   "source": [
    "for category in os.listdir(train_dir):\n",
    "    current_dir = os.path.join(train_dir, category)\n",
    "    dir_length = len(os.listdir(current_dir))\n",
    "    counter = 0\n",
    "    max_training = split_portion * dir_length\n",
    "    \n",
    "    os.mkdir(os.path.join(val_dir, category))\n",
    "    target_dir = os.path.join(val_dir, category)\n",
    "    \n",
    "    print(\"{} before splitting : {} files\".format(category, dir_length))\n",
    "    \n",
    "    for file in os.listdir(current_dir):\n",
    "        src = os.path.join(current_dir, file)\n",
    "        target = os.path.join(target_dir, file)\n",
    "        \n",
    "        counter += 1\n",
    "        \n",
    "        if counter >= max_training:\n",
    "            shutil.move(src, target)\n",
    "            \n",
    "    print(\"{} after splitting : {} files\".format(category, len(os.listdir(current_dir))))\n",
    "    \n",
    "    print()"
   ]
  },
  {
   "cell_type": "markdown",
   "metadata": {},
   "source": [
    "## Preprocessing Image"
   ]
  },
  {
   "cell_type": "code",
   "execution_count": 7,
   "metadata": {},
   "outputs": [],
   "source": [
    "train_rule = ImageDataGenerator(\n",
    "    rescale = 1./255,\n",
    "    horizontal_flip = True,\n",
    "    shear_range = 0.2,\n",
    "    rotation_range = 0.2,\n",
    "    zoom_range = 0.2,\n",
    "    width_shift_range = 0.2,\n",
    "    height_shift_range = 0.2,\n",
    "    fill_mode = 'nearest'\n",
    ")\n",
    "\n",
    "val_rule = ImageDataGenerator(\n",
    "    rescale = 1./255\n",
    ")"
   ]
  },
  {
   "cell_type": "code",
   "execution_count": 8,
   "metadata": {},
   "outputs": [
    {
     "name": "stdout",
     "output_type": "stream",
     "text": [
      "Found 3452 images belonging to 5 classes.\n",
      "Found 865 images belonging to 5 classes.\n"
     ]
    }
   ],
   "source": [
    "train_generator = train_rule.flow_from_directory(\n",
    "    train_dir,\n",
    "    target_size = (150,150),\n",
    "    batch_size = 20,\n",
    "    class_mode = 'categorical',\n",
    "    shuffle = True\n",
    ")\n",
    "\n",
    "val_generator = val_rule.flow_from_directory(\n",
    "    val_dir,\n",
    "    target_size = (150,150),\n",
    "    batch_size = 20,\n",
    "    class_mode = 'categorical',\n",
    ")"
   ]
  },
  {
   "cell_type": "markdown",
   "metadata": {},
   "source": [
    "## Building Model"
   ]
  },
  {
   "cell_type": "code",
   "execution_count": 9,
   "metadata": {},
   "outputs": [
    {
     "name": "stdout",
     "output_type": "stream",
     "text": [
      "Model: \"sequential\"\n",
      "_________________________________________________________________\n",
      "Layer (type)                 Output Shape              Param #   \n",
      "=================================================================\n",
      "conv2d (Conv2D)              (None, 148, 148, 16)      448       \n",
      "_________________________________________________________________\n",
      "max_pooling2d (MaxPooling2D) (None, 74, 74, 16)        0         \n",
      "_________________________________________________________________\n",
      "conv2d_1 (Conv2D)            (None, 72, 72, 32)        4640      \n",
      "_________________________________________________________________\n",
      "max_pooling2d_1 (MaxPooling2 (None, 36, 36, 32)        0         \n",
      "_________________________________________________________________\n",
      "conv2d_2 (Conv2D)            (None, 34, 34, 64)        18496     \n",
      "_________________________________________________________________\n",
      "max_pooling2d_2 (MaxPooling2 (None, 17, 17, 64)        0         \n",
      "_________________________________________________________________\n",
      "flatten (Flatten)            (None, 18496)             0         \n",
      "_________________________________________________________________\n",
      "dense (Dense)                (None, 256)               4735232   \n",
      "_________________________________________________________________\n",
      "dropout (Dropout)            (None, 256)               0         \n",
      "_________________________________________________________________\n",
      "dense_1 (Dense)              (None, 512)               131584    \n",
      "_________________________________________________________________\n",
      "dense_2 (Dense)              (None, 5)                 2565      \n",
      "=================================================================\n",
      "Total params: 4,892,965\n",
      "Trainable params: 4,892,965\n",
      "Non-trainable params: 0\n",
      "_________________________________________________________________\n",
      "Epoch 1/10\n",
      "173/173 [==============================] - 94s 532ms/step - loss: 1.3338 - acc: 0.4047 - val_loss: 1.1516 - val_acc: 0.5145\n",
      "Epoch 2/10\n",
      "173/173 [==============================] - 86s 499ms/step - loss: 1.0446 - acc: 0.5936 - val_loss: 0.9334 - val_acc: 0.6462\n",
      "Epoch 3/10\n",
      "173/173 [==============================] - 113s 652ms/step - loss: 0.9589 - acc: 0.6237 - val_loss: 0.8479 - val_acc: 0.6659\n",
      "Epoch 4/10\n",
      "173/173 [==============================] - 112s 645ms/step - loss: 0.8985 - acc: 0.6550 - val_loss: 0.7722 - val_acc: 0.7179\n",
      "Epoch 5/10\n",
      "173/173 [==============================] - 112s 644ms/step - loss: 0.8515 - acc: 0.6698 - val_loss: 0.7617 - val_acc: 0.6960\n",
      "Epoch 6/10\n",
      "173/173 [==============================] - 110s 635ms/step - loss: 0.8412 - acc: 0.6874 - val_loss: 0.7727 - val_acc: 0.7052\n",
      "Epoch 7/10\n",
      "173/173 [==============================] - 113s 652ms/step - loss: 0.8165 - acc: 0.6866 - val_loss: 0.7139 - val_acc: 0.7434\n",
      "Epoch 8/10\n",
      "173/173 [==============================] - 110s 635ms/step - loss: 0.7987 - acc: 0.6851 - val_loss: 0.6883 - val_acc: 0.7468\n",
      "Epoch 9/10\n",
      "173/173 [==============================] - 107s 620ms/step - loss: 0.7621 - acc: 0.7155 - val_loss: 0.8522 - val_acc: 0.6694\n",
      "Epoch 10/10\n",
      "173/173 [==============================] - 107s 619ms/step - loss: 0.7598 - acc: 0.7063 - val_loss: 0.6676 - val_acc: 0.7329\n"
     ]
    }
   ],
   "source": [
    "model = Sequential([\n",
    "    Conv2D(16, (3, 3), activation = 'relu', input_shape = (150, 150, 3)),\n",
    "    MaxPooling2D(2, 2),\n",
    "    Conv2D(32, (3, 3), activation = 'relu'),\n",
    "    MaxPooling2D(2, 2),\n",
    "    Conv2D(64, (3, 3), activation = 'relu'),\n",
    "    MaxPooling2D(2, 2),\n",
    "    \n",
    "    Flatten(),\n",
    "    \n",
    "    Dense(256, activation = 'relu'),\n",
    "    Dropout(0.2),\n",
    "    Dense(512, activation = 'relu'),\n",
    "    Dense(5, activation = 'softmax')\n",
    "])\n",
    "\n",
    "model.summary()\n",
    "\n",
    "model.compile(\n",
    "    loss = 'categorical_crossentropy',\n",
    "    optimizer = 'adam',\n",
    "    metrics = ['acc']\n",
    ")\n",
    "\n",
    "history = model.fit(\n",
    "    train_generator,\n",
    "    epochs = 10,\n",
    "    validation_data = val_generator\n",
    ")"
   ]
  },
  {
   "cell_type": "markdown",
   "metadata": {},
   "source": [
    "### Save Model"
   ]
  },
  {
   "cell_type": "code",
   "execution_count": 10,
   "metadata": {},
   "outputs": [],
   "source": [
    "saved_model_path = './model.h5'\n",
    "model.save(saved_model_path)"
   ]
  },
  {
   "cell_type": "markdown",
   "metadata": {},
   "source": [
    "## Draw Graph"
   ]
  },
  {
   "cell_type": "code",
   "execution_count": 11,
   "metadata": {},
   "outputs": [],
   "source": [
    "acc = history.history['acc']\n",
    "val_acc = history.history['val_acc']\n",
    "loss = history.history['loss']\n",
    "val_loss = history.history['val_loss']\n",
    "\n",
    "epochs = range(len(acc))"
   ]
  },
  {
   "cell_type": "markdown",
   "metadata": {},
   "source": [
    "### Training vs Validation Accuracy"
   ]
  },
  {
   "cell_type": "code",
   "execution_count": 12,
   "metadata": {},
   "outputs": [
    {
     "data": {
      "image/png": "[encoded data removed]",
      "text/plain": [
       "<Figure size 432x288 with 1 Axes>"
      ]
     },
     "metadata": {
      "needs_background": "light"
     },
     "output_type": "display_data"
    }
   ],
   "source": [
    "plt.plot(epochs, acc, 'r', label='Training Accuracy')\n",
    "plt.plot(epochs, val_acc, 'b', label='Validation Accuracy')\n",
    "plt.title('Training vs Validation Accuracy')\n",
    "plt.legend(loc=4)\n",
    "plt.show()"
   ]
  },
  {
   "cell_type": "markdown",
   "metadata": {},
   "source": [
    "### Training vs Validation Loss"
   ]
  },
  {
   "cell_type": "code",
   "execution_count": 13,
   "metadata": {},
   "outputs": [
    {
     "data": {
      "image/png": "[encoded data removed]",
      "text/plain": [
       "<Figure size 432x288 with 1 Axes>"
      ]
     },
     "metadata": {
      "needs_background": "light"
     },
     "output_type": "display_data"
    }
   ],
   "source": [
    "plt.plot(epochs, loss, 'r', label='Training Loss')\n",
    "plt.plot(epochs, val_loss, 'b', label='Validation Loss')\n",
    "plt.legend(loc=0)\n",
    "plt.title('Training vs Validation Loss')\n",
    "plt.show()"
   ]
  },
  {
   "cell_type": "code",
   "execution_count": null,
   "metadata": {},
   "outputs": [],
   "source": []
  }
 ],
 "metadata": {
  "kernelspec": {
   "display_name": "Python 3",
   "language": "python",
   "name": "python3"
  },
  "language_info": {
   "codemirror_mode": {
    "name": "ipython",
    "version": 3
   },
   "file_extension": ".py",
   "mimetype": "text/x-python",
   "name": "python",
   "nbconvert_exporter": "python",
   "pygments_lexer": "ipython3",
   "version": "3.7.3"
  }
 },
 "nbformat": 4,
 "nbformat_minor": 2
}
