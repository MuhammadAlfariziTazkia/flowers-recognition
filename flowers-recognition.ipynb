{
 "cells": [
  {
   "cell_type": "markdown",
   "metadata": {},
   "source": [
    "# Flowers Recognition\n",
    "### By : Muhammad Alfarizi Tazkia\n",
    "### Dataset Link : https://www.kaggle.com/alxmamaev/flowers-recognition\n",
    "\n"
   ]
  },
  {
   "cell_type": "markdown",
   "metadata": {},
   "source": [
    "## Importing Library"
   ]
  },
  {
   "cell_type": "code",
   "execution_count": 1,
   "metadata": {},
   "outputs": [],
   "source": [
    "import tensorflow as tf\n",
    "import zipfile\n",
    "import shutil\n",
    "import os\n",
    "import matplotlib.pyplot as plt\n",
    "\n",
    "from keras.preprocessing import image\n",
    "from tensorflow.keras.preprocessing.image import ImageDataGenerator\n",
    "\n",
    "from tensorflow.keras.models import Sequential\n",
    "from tensorflow.keras.layers import Conv2D\n",
    "from tensorflow.keras.layers import Dense\n",
    "from tensorflow.keras.layers import MaxPooling2D\n",
    "from tensorflow.keras.layers import Dropout\n",
    "from tensorflow.keras.layers import Flatten\n",
    "\n",
    "from tensorflow.keras.optimizers import Adam"
   ]
  },
  {
   "cell_type": "markdown",
   "metadata": {},
   "source": [
    "## File Configuration"
   ]
  },
  {
   "cell_type": "markdown",
   "metadata": {},
   "source": [
    "### Extracting Directory"
   ]
  },
  {
   "cell_type": "code",
   "execution_count": 4,
   "metadata": {},
   "outputs": [
    {
     "name": "stdout",
     "output_type": "stream",
     "text": [
      "['.ipynb_checkpoints', 'archive-dataset', 'flowers-recognition.ipynb', '.git']\n"
     ]
    }
   ],
   "source": [
    "# show directory\n",
    "print(os.listdir())"
   ]
  },
  {
   "cell_type": "code",
   "execution_count": 5,
   "metadata": {},
   "outputs": [
    {
     "name": "stdout",
     "output_type": "stream",
     "text": [
      "['archive(3).zip']\n"
     ]
    }
   ],
   "source": [
    "print(os.listdir('archive-dataset'))"
   ]
  },
  {
   "cell_type": "code",
   "execution_count": 4,
   "metadata": {},
   "outputs": [
    {
     "name": "stdout",
     "output_type": "stream",
     "text": [
      "Successfully extracting dataset!\n"
     ]
    }
   ],
   "source": [
    "dataset_zip = 'archive-dataset/archive(3).zip'\n",
    "os.mkdir('dataset')\n",
    "dataset_dir = 'dataset/'\n",
    "\n",
    "scanning_zip_file = zipfile.ZipFile(dataset_zip, 'r')\n",
    "scanning_zip_file.extractall(dataset_dir)\n",
    "scanning_zip_file.close()\n",
    "\n",
    "print('Successfully extracting dataset!')"
   ]
  },
  {
   "cell_type": "code",
   "execution_count": 6,
   "metadata": {},
   "outputs": [
    {
     "name": "stdout",
     "output_type": "stream",
     "text": [
      "['dataset', '.ipynb_checkpoints', 'archive-dataset', 'flowers-recognition.ipynb', '.gitignore', '.git']\n"
     ]
    }
   ],
   "source": [
    "print(os.listdir())\n",
    "# print(os.listdir(os.path.join(dataset_dir, 'flowers')))"
   ]
  },
  {
   "cell_type": "markdown",
   "metadata": {},
   "source": [
    "### Define Directory Name"
   ]
  },
  {
   "cell_type": "code",
   "execution_count": 32,
   "metadata": {},
   "outputs": [
    {
     "name": "stdout",
     "output_type": "stream",
     "text": [
      "['train']\n"
     ]
    }
   ],
   "source": [
    "os.rename(os.path.join(dataset_dir, 'flowers'), os.path.join(dataset_dir, 'train'))\n",
    "print(os.listdir(dataset_dir))"
   ]
  },
  {
   "cell_type": "code",
   "execution_count": 33,
   "metadata": {},
   "outputs": [],
   "source": [
    "os.mkdir(os.path.join(dataset_dir, 'val'))"
   ]
  },
  {
   "cell_type": "code",
   "execution_count": 7,
   "metadata": {},
   "outputs": [
    {
     "name": "stdout",
     "output_type": "stream",
     "text": [
      "['train', 'val']\n"
     ]
    }
   ],
   "source": [
    "train_dir = os.path.join(dataset_dir, 'train')\n",
    "val_dir = os.path.join(dataset_dir, 'val')\n",
    "print(os.listdir(dataset_dir))"
   ]
  },
  {
   "cell_type": "markdown",
   "metadata": {},
   "source": [
    "### Split Training and Validation Data"
   ]
  },
  {
   "cell_type": "code",
   "execution_count": 35,
   "metadata": {},
   "outputs": [],
   "source": [
    "split_portion = 0.8"
   ]
  },
  {
   "cell_type": "code",
   "execution_count": 36,
   "metadata": {},
   "outputs": [
    {
     "name": "stdout",
     "output_type": "stream",
     "text": [
      "rose before splitting : 784 files\n",
      "rose after splitting : 627 files\n",
      "\n",
      "tulip before splitting : 984 files\n",
      "tulip after splitting : 787 files\n",
      "\n",
      "daisy before splitting : 764 files\n",
      "daisy after splitting : 611 files\n",
      "\n",
      "dandelion before splitting : 1052 files\n",
      "dandelion after splitting : 841 files\n",
      "\n",
      "sunflower before splitting : 733 files\n",
      "sunflower after splitting : 586 files\n",
      "\n"
     ]
    }
   ],
   "source": [
    "for category in os.listdir(train_dir):\n",
    "    current_dir = os.path.join(train_dir, category)\n",
    "    dir_length = len(os.listdir(current_dir))\n",
    "    counter = 0\n",
    "    max_training = split_portion * dir_length\n",
    "    \n",
    "    os.mkdir(os.path.join(val_dir, category))\n",
    "    target_dir = os.path.join(val_dir, category)\n",
    "    \n",
    "    print(\"{} before splitting : {} files\".format(category, dir_length))\n",
    "    \n",
    "    for file in os.listdir(current_dir):\n",
    "        src = os.path.join(current_dir, file)\n",
    "        target = os.path.join(target_dir, file)\n",
    "        \n",
    "        counter += 1\n",
    "        \n",
    "        if counter >= max_training:\n",
    "            shutil.move(src, target)\n",
    "            \n",
    "    print(\"{} after splitting : {} files\".format(category, len(os.listdir(current_dir))))\n",
    "    \n",
    "    print()"
   ]
  },
  {
   "cell_type": "markdown",
   "metadata": {},
   "source": [
    "## Preprocessing Image"
   ]
  },
  {
   "cell_type": "code",
   "execution_count": 8,
   "metadata": {},
   "outputs": [],
   "source": [
    "train_rule = ImageDataGenerator(\n",
    "    rescale = 1./255,\n",
    "    horizontal_flip = True,\n",
    "    shear_range = 0.2,\n",
    "    rotation_range = 0.2,\n",
    "    zoom_range = 0.2,\n",
    "    width_shift_range = 0.2,\n",
    "    height_shift_range = 0.2,\n",
    "    fill_mode = 'nearest'\n",
    ")\n",
    "\n",
    "val_rule = ImageDataGenerator(\n",
    "    rescale = 1./255\n",
    ")"
   ]
  },
  {
   "cell_type": "code",
   "execution_count": 9,
   "metadata": {},
   "outputs": [
    {
     "name": "stdout",
     "output_type": "stream",
     "text": [
      "Found 3452 images belonging to 5 classes.\n",
      "Found 865 images belonging to 5 classes.\n"
     ]
    }
   ],
   "source": [
    "train_generator = train_rule.flow_from_directory(\n",
    "    train_dir,\n",
    "    target_size = (150,150),\n",
    "    batch_size = 20,\n",
    "    class_mode = 'categorical',\n",
    "    shuffle = True\n",
    ")\n",
    "\n",
    "val_generator = val_rule.flow_from_directory(\n",
    "    val_dir,\n",
    "    target_size = (150,150),\n",
    "    batch_size = 20,\n",
    "    class_mode = 'categorical',\n",
    ")"
   ]
  },
  {
   "cell_type": "markdown",
   "metadata": {},
   "source": [
    "## Building Model"
   ]
  },
  {
   "cell_type": "code",
   "execution_count": 19,
   "metadata": {},
   "outputs": [
    {
     "name": "stdout",
     "output_type": "stream",
     "text": [
      "Model: \"sequential_1\"\n",
      "_________________________________________________________________\n",
      "Layer (type)                 Output Shape              Param #   \n",
      "=================================================================\n",
      "conv2d_2 (Conv2D)            (None, 148, 148, 8)       224       \n",
      "_________________________________________________________________\n",
      "max_pooling2d_2 (MaxPooling2 (None, 74, 74, 8)         0         \n",
      "_________________________________________________________________\n",
      "conv2d_3 (Conv2D)            (None, 72, 72, 16)        1168      \n",
      "_________________________________________________________________\n",
      "max_pooling2d_3 (MaxPooling2 (None, 36, 36, 16)        0         \n",
      "_________________________________________________________________\n",
      "conv2d_4 (Conv2D)            (None, 34, 34, 32)        4640      \n",
      "_________________________________________________________________\n",
      "max_pooling2d_4 (MaxPooling2 (None, 17, 17, 32)        0         \n",
      "_________________________________________________________________\n",
      "flatten_1 (Flatten)          (None, 9248)              0         \n",
      "_________________________________________________________________\n",
      "dense_3 (Dense)              (None, 128)               1183872   \n",
      "_________________________________________________________________\n",
      "dropout_1 (Dropout)          (None, 128)               0         \n",
      "_________________________________________________________________\n",
      "dense_4 (Dense)              (None, 256)               33024     \n",
      "_________________________________________________________________\n",
      "dense_5 (Dense)              (None, 5)                 1285      \n",
      "=================================================================\n",
      "Total params: 1,224,213\n",
      "Trainable params: 1,224,213\n",
      "Non-trainable params: 0\n",
      "_________________________________________________________________\n",
      "Epoch 1/10\n",
      "173/173 [==============================] - 65s 368ms/step - loss: 1.3875 - acc: 0.3769 - val_loss: 1.1962 - val_acc: 0.5075\n",
      "Epoch 2/10\n",
      "173/173 [==============================] - 61s 351ms/step - loss: 1.1034 - acc: 0.5571 - val_loss: 1.0953 - val_acc: 0.5676\n",
      "Epoch 3/10\n",
      "173/173 [==============================] - 66s 381ms/step - loss: 1.0221 - acc: 0.5947 - val_loss: 0.9856 - val_acc: 0.6590\n",
      "Epoch 4/10\n",
      "173/173 [==============================] - 84s 482ms/step - loss: 0.9831 - acc: 0.6115 - val_loss: 0.9840 - val_acc: 0.6208\n",
      "Epoch 5/10\n",
      "173/173 [==============================] - 77s 443ms/step - loss: 0.9009 - acc: 0.6506 - val_loss: 0.8234 - val_acc: 0.6832\n",
      "Epoch 6/10\n",
      "173/173 [==============================] - 68s 394ms/step - loss: 0.9021 - acc: 0.6593 - val_loss: 0.9295 - val_acc: 0.6370\n",
      "Epoch 7/10\n",
      "173/173 [==============================] - 69s 398ms/step - loss: 0.8812 - acc: 0.6547 - val_loss: 0.8482 - val_acc: 0.6855\n",
      "Epoch 8/10\n",
      "173/173 [==============================] - 76s 436ms/step - loss: 0.8396 - acc: 0.6799 - val_loss: 0.7596 - val_acc: 0.7133\n",
      "Epoch 9/10\n",
      "173/173 [==============================] - 73s 423ms/step - loss: 0.8447 - acc: 0.6741 - val_loss: 0.7803 - val_acc: 0.6983\n",
      "Epoch 10/10\n",
      "173/173 [==============================] - 88s 506ms/step - loss: 0.8229 - acc: 0.6767 - val_loss: 0.7378 - val_acc: 0.7202\n"
     ]
    }
   ],
   "source": [
    "model = Sequential([\n",
    "    Conv2D(8, (3, 3), activation = 'relu', input_shape = (150, 150, 3)),\n",
    "    MaxPooling2D(2, 2),\n",
    "    Conv2D(16, (3, 3), activation = 'relu'),\n",
    "    MaxPooling2D(2, 2),\n",
    "    Conv2D(32, (3, 3), activation = 'relu'),\n",
    "    MaxPooling2D(2, 2),\n",
    "    \n",
    "    Flatten(),\n",
    "    \n",
    "    Dense(128, activation = 'relu'),\n",
    "    Dropout(0.2),\n",
    "    Dense(256, activation = 'relu'),\n",
    "    Dense(5, activation = 'softmax')\n",
    "])\n",
    "\n",
    "model.summary()\n",
    "\n",
    "model.compile(\n",
    "    loss = 'categorical_crossentropy',\n",
    "    optimizer = 'adam',\n",
    "    metrics = ['acc']\n",
    ")\n",
    "\n",
    "history = model.fit(\n",
    "    train_generator,\n",
    "    epochs = 10,\n",
    "    validation_data = val_generator\n",
    ")"
   ]
  },
  {
   "cell_type": "markdown",
   "metadata": {},
   "source": [
    "### Save Model"
   ]
  },
  {
   "cell_type": "code",
   "execution_count": 20,
   "metadata": {},
   "outputs": [],
   "source": [
    "saved_model_path = './model.h5'\n",
    "model.save(saved_model_path)"
   ]
  },
  {
   "cell_type": "markdown",
   "metadata": {},
   "source": [
    "## Draw Graph"
   ]
  },
  {
   "cell_type": "code",
   "execution_count": 21,
   "metadata": {},
   "outputs": [],
   "source": [
    "acc = history.history['acc']\n",
    "val_acc = history.history['val_acc']\n",
    "loss = history.history['loss']\n",
    "val_loss = history.history['val_loss']\n",
    "\n",
    "epochs = range(len(acc))"
   ]
  },
  {
   "cell_type": "markdown",
   "metadata": {},
   "source": [
    "### Training vs Validation Accuracy"
   ]
  },
  {
   "cell_type": "code",
   "execution_count": 22,
   "metadata": {},
   "outputs": [
    {
     "data": {
      "image/png": "[encoded data removed]",
      "text/plain": [
       "<Figure size 432x288 with 1 Axes>"
      ]
     },
     "metadata": {
      "needs_background": "light"
     },
     "output_type": "display_data"
    }
   ],
   "source": [
    "plt.plot(epochs, acc, 'r', label='Training Accuracy')\n",
    "plt.plot(epochs, val_acc, 'b', label='Validation Accuracy')\n",
    "plt.title('Training vs Validation Accuracy')\n",
    "plt.legend(loc=4)\n",
    "plt.show()"
   ]
  },
  {
   "cell_type": "markdown",
   "metadata": {},
   "source": [
    "### Training vs Validation Loss"
   ]
  },
  {
   "cell_type": "code",
   "execution_count": 23,
   "metadata": {},
   "outputs": [
    {
     "data": {
      "image/png": "[encoded data removed]",
      "text/plain": [
       "<Figure size 432x288 with 1 Axes>"
      ]
     },
     "metadata": {
      "needs_background": "light"
     },
     "output_type": "display_data"
    }
   ],
   "source": [
    "plt.plot(epochs, loss, 'r', label='Training Loss')\n",
    "plt.plot(epochs, val_loss, 'b', label='Validation Loss')\n",
    "plt.legend(loc=0)\n",
    "plt.title('Training vs Validation Loss')\n",
    "plt.show()"
   ]
  },
  {
   "cell_type": "code",
   "execution_count": null,
   "metadata": {},
   "outputs": [],
   "source": []
  }
 ],
 "metadata": {
  "kernelspec": {
   "display_name": "Python 3",
   "language": "python",
   "name": "python3"
  },
  "language_info": {
   "codemirror_mode": {
    "name": "ipython",
    "version": 3
   },
   "file_extension": ".py",
   "mimetype": "text/x-python",
   "name": "python",
   "nbconvert_exporter": "python",
   "pygments_lexer": "ipython3",
   "version": "3.7.3"
  }
 },
 "nbformat": 4,
 "nbformat_minor": 2
}
