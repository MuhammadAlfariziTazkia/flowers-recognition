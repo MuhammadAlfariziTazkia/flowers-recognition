{
 "cells": [
  {
   "cell_type": "markdown",
   "metadata": {},
   "source": [
    "## Importing Library"
   ]
  },
  {
   "cell_type": "code",
   "execution_count": 3,
   "metadata": {},
   "outputs": [],
   "source": [
    "import tensorflow as tf\n",
    "import zipfile\n",
    "import shutil\n",
    "import os"
   ]
  },
  {
   "cell_type": "markdown",
   "metadata": {},
   "source": [
    "## File Configuration"
   ]
  },
  {
   "cell_type": "markdown",
   "metadata": {},
   "source": [
    "### Extracting Directory"
   ]
  },
  {
   "cell_type": "code",
   "execution_count": 4,
   "metadata": {},
   "outputs": [
    {
     "name": "stdout",
     "output_type": "stream",
     "text": [
      "['.ipynb_checkpoints', 'archive-dataset', 'flowers-recognition.ipynb', '.git']\n"
     ]
    }
   ],
   "source": [
    "# show directory\n",
    "print(os.listdir())"
   ]
  },
  {
   "cell_type": "code",
   "execution_count": 5,
   "metadata": {},
   "outputs": [
    {
     "name": "stdout",
     "output_type": "stream",
     "text": [
      "['archive(3).zip']\n"
     ]
    }
   ],
   "source": [
    "print(os.listdir('archive-dataset'))"
   ]
  },
  {
   "cell_type": "code",
   "execution_count": 7,
   "metadata": {},
   "outputs": [
    {
     "name": "stdout",
     "output_type": "stream",
     "text": [
      "Successfully extracting dataset!\n"
     ]
    }
   ],
   "source": [
    "dataset_zip = 'archive-dataset/archive(3).zip'\n",
    "os.mkdir('dataset')\n",
    "dataset_dir = 'dataset/'\n",
    "\n",
    "scanning_zip_file = zipfile.ZipFile(dataset_zip, 'r')\n",
    "scanning_zip_file.extractall(dataset_dir)\n",
    "scanning_zip_file.close()\n",
    "\n",
    "print('Successfully extracting dataset!')"
   ]
  },
  {
   "cell_type": "code",
   "execution_count": 11,
   "metadata": {},
   "outputs": [
    {
     "name": "stdout",
     "output_type": "stream",
     "text": [
      "['dataset', '.ipynb_checkpoints', 'archive-dataset', 'flowers-recognition.ipynb', '.git']\n",
      "['rose', 'tulip', 'daisy', 'dandelion', 'sunflower']\n"
     ]
    }
   ],
   "source": [
    "print(os.listdir())\n",
    "print(os.listdir(os.path.join(dataset_dir, 'flowers')))"
   ]
  },
  {
   "cell_type": "markdown",
   "metadata": {},
   "source": [
    "### Define Directory Name"
   ]
  },
  {
   "cell_type": "code",
   "execution_count": 14,
   "metadata": {},
   "outputs": [
    {
     "name": "stdout",
     "output_type": "stream",
     "text": [
      "['train']\n"
     ]
    }
   ],
   "source": [
    "os.rename(os.path.join(dataset_dir, 'flowers'), os.path.join(dataset_dir, 'train'))\n",
    "print(os.listdir(dataset_dir))"
   ]
  },
  {
   "cell_type": "code",
   "execution_count": null,
   "metadata": {
    "collapsed": true
   },
   "outputs": [],
   "source": []
  }
 ],
 "metadata": {
  "kernelspec": {
   "display_name": "Python 3",
   "language": "python",
   "name": "python3"
  },
  "language_info": {
   "codemirror_mode": {
    "name": "ipython",
    "version": 3
   },
   "file_extension": ".py",
   "mimetype": "text/x-python",
   "name": "python",
   "nbconvert_exporter": "python",
   "pygments_lexer": "ipython3",
   "version": "3.7.3"
  }
 },
 "nbformat": 4,
 "nbformat_minor": 2
}
